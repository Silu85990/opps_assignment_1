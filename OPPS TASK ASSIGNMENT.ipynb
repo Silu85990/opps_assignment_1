{
 "cells": [
  {
   "cell_type": "code",
   "execution_count": 1,
   "id": "62d74f45-6d6f-4597-8bc8-95a44d07214e",
   "metadata": {},
   "outputs": [
    {
     "name": "stdout",
     "output_type": "stream",
     "text": [
      "Car\n",
      "70\n",
      "220\n",
      "bike\n",
      "50\n",
      "120\n"
     ]
    }
   ],
   "source": [
    "#Q1_Ans\n",
    "\n",
    "class vehicle:\n",
    "    def __init__(self, vehicle_name, max_speed, avarage_speed):\n",
    "        self.vehicle_name = vehicle_name\n",
    "        self.max_speed = max_speed \n",
    "        self.avarage_speed = avarage_speed\n",
    "        \n",
    "        \n",
    "car = vehicle(\"Car\", 220, 70)\n",
    "print(car.vehicle_name)\n",
    "print(car.avarage_speed)\n",
    "print(car.max_speed)\n",
    "\n",
    "\n",
    "bike = vehicle(\"bike\",120,50)\n",
    "print(bike.vehicle_name)\n",
    "print(bike.avarage_speed)\n",
    "print(bike.max_speed)"
   ]
  },
  {
   "cell_type": "code",
   "execution_count": 2,
   "id": "dc5e78cc-3658-47a3-8288-08fd1ff22801",
   "metadata": {},
   "outputs": [
    {
     "name": "stdout",
     "output_type": "stream",
     "text": [
      "5\n"
     ]
    }
   ],
   "source": [
    "#Q2_ANS\n",
    "\n",
    "class Vehicle:\n",
    "    def __init__(self, name):\n",
    "        self.name = name\n",
    "    def seating_capacity(self, capacity):\n",
    "        return f\"The vehicle {self.name} has a seating capacity of {capacity}.\"\n",
    "    \n",
    "\n",
    "class Car(Vehicle):\n",
    "    def __init__(self, name, capacity):\n",
    "        self.capacity = capacity\n",
    "\n",
    "    def seating_capacity(self):\n",
    "        return super().seating_capacity(self.capacity)\n",
    "\n",
    "\n",
    "car = Car(\"suv\", 5)\n",
    "print(car.capacity)"
   ]
  },
  {
   "cell_type": "code",
   "execution_count": 3,
   "id": "330e6ae9-b04e-4071-bdf0-888e9a9b624d",
   "metadata": {},
   "outputs": [],
   "source": [
    "#Q3_Ans\n",
    "\n",
    "\"\"\"Multiple inheritance is a feature in object-oriented programming\n",
    "where a class can inherit attributes and methods from multiple parent classes. \n",
    "This means that a class can have more than one parent class, \n",
    "allowing it to inherit and combine behaviors from different sources.\n",
    "\n",
    "In Python, multiple inheritance is achieved by \n",
    "specifying multiple parent classes separated by commas in the class definition.\"\"\"\n",
    "\n",
    "class human_beings:\n",
    "    def __init__(self, name):\n",
    "        self.name = name\n",
    "    \n",
    "    def form(self):\n",
    "        pass\n",
    "    \n",
    "class male(human_beings):\n",
    "     def form(self):\n",
    "        return \"male: boy,brother,father \"\n",
    "\n",
    "class female(human_beings):\n",
    "    def form(self):\n",
    "        return \"female: girl,sister,mother \""
   ]
  },
  {
   "cell_type": "code",
   "execution_count": 8,
   "id": "38ad7108-93ed-4566-97bb-78f9ed02b5d8",
   "metadata": {},
   "outputs": [],
   "source": [
    "#Q5_Ans\n",
    "\n",
    "\"\"\"Method overriding is a feature in object-oriented programming \n",
    "where a subclass provides a different implementation of a method \n",
    "that is already defined in its superclass. \n",
    "It allows a subclass to provide its own implementatio\n",
    "n of a method inherited from its superclass.\"\"\"\n",
    "\n",
    "class human_beings:\n",
    "    def __init__(self, name):\n",
    "        self.name = name\n",
    "    \n",
    "    def form(self):\n",
    "        pass\n",
    "    \n",
    "class male(human_beings):\n",
    "     def form(self):\n",
    "        return \"male: boy,brother,father \"\n",
    "\n",
    "class female(human_beings):\n",
    "    def form(self):\n",
    "        return \"female: girl,sister,mother \""
   ]
  },
  {
   "cell_type": "code",
   "execution_count": 16,
   "id": "0fe54950-bd42-45da-b8b1-8db797370388",
   "metadata": {},
   "outputs": [
    {
     "name": "stdout",
     "output_type": "stream",
     "text": [
      "Silu\n"
     ]
    }
   ],
   "source": [
    "#Q4_Ans\n",
    "\n",
    "\n",
    "#Getters are methods that allow you to access the value of an attribute in a class.\n",
    "#Setters are methods that allow you to set the value of an attribute in a class.\n",
    "\n",
    "class Person:\n",
    "    def __init__(self, name):\n",
    "        self._name = name\n",
    "    def get_name(self):\n",
    "        return self._name\n",
    "    def set_name(self, new_name):\n",
    "        self._name = new_name\n",
    "        \n",
    "person = Person(\"silu\")\n",
    "\n",
    "person.set_name(\"Silu\")\n",
    "print(person.get_name()) "
   ]
  }
 ],
 "metadata": {
  "kernelspec": {
   "display_name": "Python 3 (ipykernel)",
   "language": "python",
   "name": "python3"
  },
  "language_info": {
   "codemirror_mode": {
    "name": "ipython",
    "version": 3
   },
   "file_extension": ".py",
   "mimetype": "text/x-python",
   "name": "python",
   "nbconvert_exporter": "python",
   "pygments_lexer": "ipython3",
   "version": "3.10.8"
  }
 },
 "nbformat": 4,
 "nbformat_minor": 5
}
